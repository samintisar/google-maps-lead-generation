{
 "cells": [
  {
   "cell_type": "code",
   "execution_count": 5,
   "metadata": {},
   "outputs": [
    {
     "name": "stdout",
     "output_type": "stream",
     "text": [
      "An error occurred: no element found: line 1, column 0\n",
      "Could not fetch transcript.\n"
     ]
    }
   ],
   "source": [
    "from youtube_transcript_api import YouTubeTranscriptApi\n",
    "\n",
    "def get_youtube_transcript(video_id, languages=('en',)):\n",
    "    \"\"\"\n",
    "    Fetches transcript for a YouTube video.\n",
    "    \n",
    "    Args:\n",
    "        video_id (str): YouTube video ID (the part after 'v=' in the URL)\n",
    "        languages (tuple): Preferred languages in order of preference\n",
    "        \n",
    "    Returns:\n",
    "        str: The concatenated transcript text\n",
    "    \"\"\"\n",
    "    try:\n",
    "        # Fetch the transcript\n",
    "        transcript = YouTubeTranscriptApi.get_transcript(video_id, languages=languages)\n",
    "        \n",
    "        # Combine all text entries\n",
    "        text = ' '.join([entry['text'] for entry in transcript])\n",
    "        \n",
    "        return text\n",
    "    \n",
    "    except Exception as e:\n",
    "        print(f\"An error occurred: {e}\")\n",
    "        return None\n",
    "\n",
    "# Example usage\n",
    "if __name__ == \"__main__\":\n",
    "    # Example video ID (from a URL like https://www.youtube.com/watch?v=VIDEO_ID)\n",
    "    video_id = \"8wDF9K1GPI8\"  # Replace with your video ID\n",
    "    \n",
    "    transcript = get_youtube_transcript(video_id)\n",
    "    \n",
    "    if transcript:\n",
    "        print(\"Transcript successfully fetched:\")\n",
    "        print(transcript)\n",
    "    else:\n",
    "        print(\"Could not fetch transcript.\")"
   ]
  }
 ],
 "metadata": {
  "kernelspec": {
   "display_name": "Python (nlp-env)",
   "language": "python",
   "name": "nlp-env"
  },
  "language_info": {
   "codemirror_mode": {
    "name": "ipython",
    "version": 3
   },
   "file_extension": ".py",
   "mimetype": "text/x-python",
   "name": "python",
   "nbconvert_exporter": "python",
   "pygments_lexer": "ipython3",
   "version": "3.10.17"
  }
 },
 "nbformat": 4,
 "nbformat_minor": 2
}
